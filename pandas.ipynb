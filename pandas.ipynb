{
 "cells": [
  {
   "cell_type": "markdown",
   "metadata": {},
   "source": [
    "Pandas tutorial from https://medium.com/mlpoint/pandas-for-machine-learning-53846bc9a98b"
   ]
  },
  {
   "cell_type": "code",
   "execution_count": 1,
   "metadata": {},
   "outputs": [],
   "source": [
    "import pandas as pd\n",
    "import numpy as np"
   ]
  },
  {
   "cell_type": "markdown",
   "metadata": {},
   "source": [
    "Creating and initializing datatypes in pandas"
   ]
  },
  {
   "cell_type": "code",
   "execution_count": 14,
   "metadata": {},
   "outputs": [
    {
     "name": "stdout",
     "output_type": "stream",
     "text": [
      "2    1\n",
      "3    2\n",
      "4    3\n",
      "5    4\n",
      "dtype: int64\n",
      "[1 2 3 4]\n"
     ]
    }
   ],
   "source": [
    "arr = np.array([1,2,3,4])\n",
    "ser = pd.Series(arr,[2,3,4,5])\n",
    "print(ser)\n",
    "print(arr)"
   ]
  },
  {
   "cell_type": "code",
   "execution_count": 11,
   "metadata": {},
   "outputs": [
    {
     "name": "stdout",
     "output_type": "stream",
     "text": [
      "1    5\n",
      "2    5\n",
      "3    5\n",
      "4    5\n",
      "6    5\n",
      "dtype: int64\n"
     ]
    }
   ],
   "source": [
    "ser = pd.Series(5, [1,2,3,4,6])\n",
    "print(ser)"
   ]
  },
  {
   "cell_type": "markdown",
   "metadata": {},
   "source": [
    "Reading and writing data in Pandas"
   ]
  },
  {
   "cell_type": "code",
   "execution_count": 26,
   "metadata": {},
   "outputs": [
    {
     "data": {
      "text/plain": [
       "pandas.core.frame.DataFrame"
      ]
     },
     "execution_count": 26,
     "metadata": {},
     "output_type": "execute_result"
    }
   ],
   "source": [
    "#to open and read files: pd.read_*\n",
    "data = pd.read_csv(\"Iris.csv\")\n",
    "type(data)"
   ]
  },
  {
   "cell_type": "code",
   "execution_count": 24,
   "metadata": {},
   "outputs": [],
   "source": [
    "#to save a dataframe object's data: dataframe.to_*\n",
    "data_csv = data.to_excel(\"Iris_dataset.xlsx\")"
   ]
  },
  {
   "cell_type": "markdown",
   "metadata": {},
   "source": [
    "Extracting useful information from large datasets using inbuilt pandas functions"
   ]
  },
  {
   "cell_type": "code",
   "execution_count": 30,
   "metadata": {},
   "outputs": [
    {
     "name": "stdout",
     "output_type": "stream",
     "text": [
      "   Id  SepalLengthCm  SepalWidthCm  PetalLengthCm  PetalWidthCm      Species\n",
      "0   1            5.1           3.5            1.4           0.2  Iris-setosa\n",
      "1   2            4.9           3.0            1.4           0.2  Iris-setosa\n",
      "2   3            4.7           3.2            1.3           0.2  Iris-setosa\n",
      "3   4            4.6           3.1            1.5           0.2  Iris-setosa\n",
      "4   5            5.0           3.6            1.4           0.2  Iris-setosa\n",
      "(150, 6)\n",
      "2\n",
      "<bound method NDFrame.tail of       Id  SepalLengthCm  SepalWidthCm  PetalLengthCm  PetalWidthCm  \\\n",
      "0      1            5.1           3.5            1.4           0.2   \n",
      "1      2            4.9           3.0            1.4           0.2   \n",
      "2      3            4.7           3.2            1.3           0.2   \n",
      "3      4            4.6           3.1            1.5           0.2   \n",
      "4      5            5.0           3.6            1.4           0.2   \n",
      "..   ...            ...           ...            ...           ...   \n",
      "145  146            6.7           3.0            5.2           2.3   \n",
      "146  147            6.3           2.5            5.0           1.9   \n",
      "147  148            6.5           3.0            5.2           2.0   \n",
      "148  149            6.2           3.4            5.4           2.3   \n",
      "149  150            5.9           3.0            5.1           1.8   \n",
      "\n",
      "            Species  \n",
      "0       Iris-setosa  \n",
      "1       Iris-setosa  \n",
      "2       Iris-setosa  \n",
      "3       Iris-setosa  \n",
      "4       Iris-setosa  \n",
      "..              ...  \n",
      "145  Iris-virginica  \n",
      "146  Iris-virginica  \n",
      "147  Iris-virginica  \n",
      "148  Iris-virginica  \n",
      "149  Iris-virginica  \n",
      "\n",
      "[150 rows x 6 columns]>\n"
     ]
    }
   ],
   "source": [
    "print(data.head())\n",
    "print(data.shape)\n",
    "print(data.ndim)\n",
    "print(data.tail)"
   ]
  },
  {
   "cell_type": "code",
   "execution_count": 33,
   "metadata": {},
   "outputs": [
    {
     "name": "stdout",
     "output_type": "stream",
     "text": [
      "               Id  SepalLengthCm  SepalWidthCm  PetalLengthCm  PetalWidthCm\n",
      "count  150.000000     150.000000    150.000000     150.000000    150.000000\n",
      "mean    75.500000       5.843333      3.054000       3.758667      1.198667\n",
      "std     43.445368       0.828066      0.433594       1.764420      0.763161\n",
      "min      1.000000       4.300000      2.000000       1.000000      0.100000\n",
      "25%     38.250000       5.100000      2.800000       1.600000      0.300000\n",
      "50%     75.500000       5.800000      3.000000       4.350000      1.300000\n",
      "75%    112.750000       6.400000      3.300000       5.100000      1.800000\n",
      "max    150.000000       7.900000      4.400000       6.900000      2.500000\n",
      "count    150.000000\n",
      "mean       5.843333\n",
      "std        0.828066\n",
      "min        4.300000\n",
      "25%        5.100000\n",
      "50%        5.800000\n",
      "75%        6.400000\n",
      "max        7.900000\n",
      "Name: SepalLengthCm, dtype: float64\n"
     ]
    }
   ],
   "source": [
    "#to get common statistics of the dataset\n",
    "print(data.describe())\n",
    "print(data['SepalLengthCm'].describe())"
   ]
  },
  {
   "cell_type": "code",
   "execution_count": 35,
   "metadata": {},
   "outputs": [
    {
     "data": {
      "text/plain": [
       "Id                 int64\n",
       "SepalLengthCm    float64\n",
       "SepalWidthCm     float64\n",
       "PetalLengthCm    float64\n",
       "PetalWidthCm     float64\n",
       "Species           object\n",
       "dtype: object"
      ]
     },
     "execution_count": 35,
     "metadata": {},
     "output_type": "execute_result"
    }
   ],
   "source": [
    "data.dtypes\n",
    "#use astype function to change the datatype"
   ]
  },
  {
   "cell_type": "code",
   "execution_count": 37,
   "metadata": {},
   "outputs": [
    {
     "name": "stdout",
     "output_type": "stream",
     "text": [
      "count    150.000000\n",
      "mean       5.843333\n",
      "std        0.828066\n",
      "min        4.300000\n",
      "25%        5.100000\n",
      "50%        5.800000\n",
      "75%        6.400000\n",
      "max        7.900000\n",
      "Name: SepalLengthCm, dtype: float64\n",
      "0    5.1\n",
      "1    4.9\n",
      "2    4.7\n",
      "3    4.6\n",
      "4    5.0\n",
      "Name: SepalLengthCm, dtype: float64\n",
      "145    5.2\n",
      "146    5.0\n",
      "147    5.2\n",
      "148    5.4\n",
      "149    5.1\n",
      "Name: PetalLengthCm, dtype: float64\n"
     ]
    }
   ],
   "source": [
    "#Selecting columns has 3 ways\n",
    "print(data.SepalLengthCm.describe())\n",
    "print(data['SepalLengthCm'].head())\n",
    "print(data.iloc[:,3].tail())"
   ]
  },
  {
   "cell_type": "code",
   "execution_count": 41,
   "metadata": {},
   "outputs": [
    {
     "name": "stdout",
     "output_type": "stream",
     "text": [
      "   Id  SepalLengthCm  SepalWidthCm  PetalLengthCm  PetalWidthCm      Species\n",
      "3   4            4.6           3.1            1.5           0.2  Iris-setosa\n",
      "4   5            5.0           3.6            1.4           0.2  Iris-setosa\n",
      "   Id  SepalLengthCm  SepalWidthCm  PetalLengthCm  PetalWidthCm      Species\n",
      "3   4            4.6           3.1            1.5           0.2  Iris-setosa\n",
      "4   5            5.0           3.6            1.4           0.2  Iris-setosa\n",
      "5   6            5.4           3.9            1.7           0.4  Iris-setosa\n"
     ]
    }
   ],
   "source": [
    "#Selecting rows\n",
    "#notice iloc vs loc\n",
    "print(data.iloc[3:5,:])\n",
    "print(data.loc[3:5,:])"
   ]
  },
  {
   "cell_type": "code",
   "execution_count": 43,
   "metadata": {},
   "outputs": [
    {
     "name": "stdout",
     "output_type": "stream",
     "text": [
      "    Id  SepalLengthCm  SepalWidthCm  PetalLengthCm  PetalWidthCm  \\\n",
      "14  15            5.8           4.0            1.2           0.2   \n",
      "50  51            7.0           3.2            4.7           1.4   \n",
      "51  52            6.4           3.2            4.5           1.5   \n",
      "52  53            6.9           3.1            4.9           1.5   \n",
      "54  55            6.5           2.8            4.6           1.5   \n",
      "\n",
      "            Species  \n",
      "14      Iris-setosa  \n",
      "50  Iris-versicolor  \n",
      "51  Iris-versicolor  \n",
      "52  Iris-versicolor  \n",
      "54  Iris-versicolor  \n"
     ]
    }
   ],
   "source": [
    "#filtering\n",
    "print(data[data['SepalLengthCm']>5.7].head())"
   ]
  },
  {
   "cell_type": "markdown",
   "metadata": {},
   "source": [
    "Manipulating Dataframes in Pandas"
   ]
  },
  {
   "cell_type": "code",
   "execution_count": 49,
   "metadata": {},
   "outputs": [
    {
     "name": "stdout",
     "output_type": "stream",
     "text": [
      "   Id  SepalLengthCm  SepalWidthCm  Petal_Length  PetalWidthCm      Species\n",
      "0   1            5.1           3.5           1.4           0.2  Iris-setosa\n",
      "1   2            4.9           3.0           1.4           0.2  Iris-setosa\n",
      "2   3            4.7           3.2           1.3           0.2  Iris-setosa\n",
      "3   4            4.6           3.1           1.5           0.2  Iris-setosa\n",
      "4   5            5.0           3.6           1.4           0.2  Iris-setosa\n",
      "   Id  SepalLengthCm  SepalWidthCm  PetalLengthCm  PetalWidthCm      Species\n",
      "0   1            5.1           3.5            1.4           0.2  Iris-setosa\n",
      "1   2            4.9           3.0            1.4           0.2  Iris-setosa\n",
      "2   3            4.7           3.2            1.3           0.2  Iris-setosa\n",
      "3   4            4.6           3.1            1.5           0.2  Iris-setosa\n",
      "4   5            5.0           3.6            1.4           0.2  Iris-setosa\n"
     ]
    }
   ],
   "source": [
    "# rename does not change the dataframe, makes a new updated copy\n",
    "print(data.rename(columns={'PetalLengthCm' : 'Petal_Length'}).head())\n",
    "print(data.head())\n"
   ]
  },
  {
   "cell_type": "code",
   "execution_count": 52,
   "metadata": {},
   "outputs": [
    {
     "name": "stdout",
     "output_type": "stream",
     "text": [
      "   SepalLengthCm  SepalWidthCm  PetalLengthCm  PetalWidthCm      Species\n",
      "0            5.1           3.5            1.4           0.2  Iris-setosa\n",
      "1            4.9           3.0            1.4           0.2  Iris-setosa\n",
      "2            4.7           3.2            1.3           0.2  Iris-setosa\n",
      "3            4.6           3.1            1.5           0.2  Iris-setosa\n",
      "4            5.0           3.6            1.4           0.2  Iris-setosa\n",
      "   SepalLengthCm  SepalWidthCm  PetalLengthCm  PetalWidthCm      Species\n",
      "0            5.1           3.5            1.4           0.2  Iris-setosa\n",
      "1            4.9           3.0            1.4           0.2  Iris-setosa\n",
      "2            4.7           3.2            1.3           0.2  Iris-setosa\n",
      "3            4.6           3.1            1.5           0.2  Iris-setosa\n",
      "4            5.0           3.6            1.4           0.2  Iris-setosa\n",
      "   Id  SepalLengthCm  SepalWidthCm  PetalLengthCm  PetalWidthCm      Species\n",
      "0   1            5.1           3.5            1.4           0.2  Iris-setosa\n",
      "1   2            4.9           3.0            1.4           0.2  Iris-setosa\n",
      "2   3            4.7           3.2            1.3           0.2  Iris-setosa\n",
      "3   4            4.6           3.1            1.5           0.2  Iris-setosa\n",
      "4   5            5.0           3.6            1.4           0.2  Iris-setosa\n"
     ]
    }
   ],
   "source": [
    "print(data.drop('Id', axis=1).head())\n",
    "print(data.drop(columns='Id').head())\n",
    "print(data.head())"
   ]
  },
  {
   "cell_type": "code",
   "execution_count": 55,
   "metadata": {},
   "outputs": [
    {
     "name": "stdout",
     "output_type": "stream",
     "text": [
      "   Id  SepalLengthCm  SepalWidthCm  PetalLengthCm  PetalWidthCm      Species\n",
      "2   3            4.7           3.2            1.3           0.2  Iris-setosa\n",
      "3   4            4.6           3.1            1.5           0.2  Iris-setosa\n",
      "4   5            5.0           3.6            1.4           0.2  Iris-setosa\n",
      "5   6            5.4           3.9            1.7           0.4  Iris-setosa\n",
      "6   7            4.6           3.4            1.4           0.3  Iris-setosa\n"
     ]
    }
   ],
   "source": [
    "print(data.drop([0,1], axis=0).head())"
   ]
  },
  {
   "cell_type": "markdown",
   "metadata": {},
   "source": [
    "Dealing With Missing Values"
   ]
  },
  {
   "cell_type": "code",
   "execution_count": 60,
   "metadata": {},
   "outputs": [
    {
     "name": "stdout",
     "output_type": "stream",
     "text": [
      "      Id  SepalLengthCm  SepalWidthCm  PetalLengthCm  PetalWidthCm  Species\n",
      "0  False          False         False          False         False    False\n",
      "1  False          False         False          False         False    False\n",
      "2  False          False         False          False         False    False\n",
      "3  False          False         False          False         False    False\n",
      "4  False          False         False          False         False    False\n",
      "   Id  SepalLengthCm  SepalWidthCm  PetalLengthCm  PetalWidthCm Species\n",
      "0 NaN            NaN           NaN            NaN           NaN     NaN\n",
      "1 NaN            NaN           NaN            NaN           NaN     NaN\n",
      "2 NaN            NaN           NaN            NaN           NaN     NaN\n",
      "3 NaN            NaN           NaN            NaN           NaN     NaN\n",
      "4 NaN            NaN           NaN            NaN           NaN     NaN\n",
      "Id               0\n",
      "SepalLengthCm    0\n",
      "SepalWidthCm     0\n",
      "PetalLengthCm    0\n",
      "PetalWidthCm     0\n",
      "Species          0\n",
      "dtype: int64\n"
     ]
    }
   ],
   "source": [
    "print(data.isna().head())\n",
    "print(data[data.isna() == True].head())\n",
    "print(data.isna().sum())"
   ]
  },
  {
   "cell_type": "code",
   "execution_count": 62,
   "metadata": {},
   "outputs": [],
   "source": [
    "#dropna function is used to drop a row (0) or column(1) containing at least one NAN value('any') or all NAN value ('all')\n",
    "#fillna function to fill values"
   ]
  },
  {
   "cell_type": "code",
   "execution_count": 72,
   "metadata": {},
   "outputs": [
    {
     "data": {
      "image/png": "[encoded data removed]",
      "text/plain": [
       "<Figure size 640x480 with 1 Axes>"
      ]
     },
     "metadata": {},
     "output_type": "display_data"
    },
    {
     "data": {
      "image/png": "[encoded data removed]",
      "text/plain": [
       "<Figure size 640x480 with 1 Axes>"
      ]
     },
     "metadata": {},
     "output_type": "display_data"
    }
   ],
   "source": [
    "from matplotlib import pyplot as plt\n",
    "\n",
    "plt.hist(data.SepalLengthCm)\n",
    "plt.show()\n",
    "plt.scatter(data.Id, data.SepalLengthCm)\n",
    "plt.show()"
   ]
  }
 ],
 "metadata": {
  "kernelspec": {
   "display_name": "Python 3",
   "language": "python",
   "name": "python3"
  },
  "language_info": {
   "codemirror_mode": {
    "name": "ipython",
    "version": 3
   },
   "file_extension": ".py",
   "mimetype": "text/x-python",
   "name": "python",
   "nbconvert_exporter": "python",
   "pygments_lexer": "ipython3",
   "version": "3.8.10"
  }
 },
 "nbformat": 4,
 "nbformat_minor": 2
}
